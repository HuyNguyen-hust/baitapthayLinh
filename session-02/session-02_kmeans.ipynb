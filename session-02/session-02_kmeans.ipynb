{
 "metadata": {
  "language_info": {
   "codemirror_mode": {
    "name": "ipython",
    "version": 3
   },
   "file_extension": ".py",
   "mimetype": "text/x-python",
   "name": "python",
   "nbconvert_exporter": "python",
   "pygments_lexer": "ipython3",
   "version": "3.8.3"
  },
  "orig_nbformat": 2,
  "kernelspec": {
   "name": "python383jvsc74a57bd0ef7f9a8012d9131766e31894c279374cc63c73121ed4db3b9e67a294a4bf0e74",
   "display_name": "Python 3.8.3 64-bit (conda)"
  }
 },
 "nbformat": 4,
 "nbformat_minor": 2,
 "cells": [
  {
   "cell_type": "code",
   "execution_count": 1,
   "metadata": {},
   "outputs": [],
   "source": [
    "import numpy as np\n",
    "from collections import defaultdict"
   ]
  },
  {
   "cell_type": "code",
   "execution_count": 2,
   "metadata": {},
   "outputs": [],
   "source": [
    "class Member:\n",
    "    def __init__(self, r_d, label = None, doc_id = None):\n",
    "        self._r_d = r_d\n",
    "        self._label = label\n",
    "        self._doc_id = doc_id"
   ]
  },
  {
   "cell_type": "code",
   "execution_count": 3,
   "metadata": {},
   "outputs": [],
   "source": [
    "\n",
    "class Cluster:\n",
    "    def __init__(self):\n",
    "        self._centroid = None\n",
    "        self._members = []\n",
    "    \n",
    "    def reset_members(self):\n",
    "        self._members = []\n",
    "\n",
    "    def add_member(self, member):\n",
    "        self._members.append(member)"
   ]
  },
  {
   "cell_type": "code",
   "execution_count": 7,
   "metadata": {},
   "outputs": [],
   "source": [
    "class Kmeans:\n",
    "    def __init__(self, num_clusters):\n",
    "        self._num_clusters = num_clusters\n",
    "        self._clusters = [Cluster() for _ in range(self._num_clusters)]\n",
    "        self._E = []    #list of centroids\n",
    "        self._S = 0     #overall_similarity\n",
    "\n",
    "    def load_data(self, data_path):\n",
    "        def sparse_to_dense(sparse_r_d, vocab_size):\n",
    "            r_d = [0.0 for _ in range(vocab_size)]\n",
    "            indices_tfidfs = sparse_r_d.split()\n",
    "            for index_tfidf in indices_tfidfs:\n",
    "                index = int(index_tfidf.split(':')[0])\n",
    "                tfidf = float(index_tfidf.split(':')[1])\n",
    "                r_d[index] = tfidf\n",
    "            return np.array(r_d)\n",
    "        \n",
    "        with open(data_path + '20news_full_tfidf.txt') as f:\n",
    "            d_lines = f.read().splitlines()\n",
    "        with open(data_path + 'words_idfs.txt') as f:\n",
    "            vocab_size = len(f.read().splitlines())\n",
    "        \n",
    "        self._data = []\n",
    "        self._label_count = defaultdict(int)\n",
    "\n",
    "        for data_id, d in enumerate(d_lines):\n",
    "            features = d.split('<fff>')\n",
    "            label, doc_id = int(features[0]), int(features[1])\n",
    "            self._label_count[label] += 1\n",
    "            r_d = sparse_to_dense(sparse_r_d = features[2], vocab_size = vocab_size)\n",
    "            self._data.append(Member(r_d = r_d, label = label, doc_id = doc_id))\n",
    "            \n",
    "    def random_init(self, seed_value):\n",
    "        np.random.seed(seed_value)\n",
    "        choosen_id = []\n",
    "        for cluster in self._clusters:\n",
    "            id = np.random.randint(len(self._data))\n",
    "            while id in choosen_id:\n",
    "                id = np.random.randint(len(self._data))\n",
    "            \n",
    "            choosen_id.append(id)\n",
    "            cluster._centroid = self._data[id]._r_d\n",
    "\n",
    "    def compute_similarity(self, member, centroid):\n",
    "        return np.sqrt(np.sum((member._r_d - centroid) ** 2))\n",
    "        \n",
    "    def select_cluster_for(self, member):\n",
    "        best_fit_cluster = None\n",
    "        max_similarity = -1\n",
    "        for cluster in self._clusters:\n",
    "            similarity = self.compute_similarity(member, cluster._centroid)\n",
    "            if similarity > max_similarity:\n",
    "                best_fit_cluster = cluster\n",
    "                max_similarity = similarity\n",
    "        best_fit_cluster.add_member(member)\n",
    "        return max_similarity\n",
    "\n",
    "    def update_centroid_of(self, cluster):\n",
    "        member_r_ds = [member._r_d for member in cluster._members]\n",
    "        aver_r_d  = np.mean(member_r_ds, axis = 0)\n",
    "        sqrt_sum_sqr = np.sqrt(np.sum(aver_r_d ** 2))\n",
    "        new_centroid = np.array([value / sqrt_sum_sqr for value in aver_r_d])\n",
    "        cluster._centroid = new_centroid\n",
    "\n",
    "    def stopping_condition(self, criterion, threshold):\n",
    "        criteria = ['centroid', 'similarity', 'max_iters']\n",
    "        assert criterion in criteria\n",
    "        \n",
    "        if criterion == 'max_iters':\n",
    "            if self._iteration >= threshold:\n",
    "                return True\n",
    "            else:\n",
    "                return False\n",
    "        elif criterion == 'centroid':\n",
    "            E_new = [cluster._centroid for cluster in self._cluster]\n",
    "            E_new_minus_E = [centroid for centroid in E_new if centroid not in self._E]\n",
    "            self._E = E_new\n",
    "            if len(E_new_minus_E) <= threshold:\n",
    "                return True\n",
    "            else:\n",
    "                return False\n",
    "        else:\n",
    "            new_S_minus_S = self._new_S - self._S\n",
    "            self._S = self._new_S\n",
    "            if new_S_minus_S <= threshold:\n",
    "                return True\n",
    "            else:\n",
    "                return False\n",
    "            \n",
    "\n",
    "    def run(self, seed_value, criterion, threshold):\n",
    "        self.random_init(seed_value)\n",
    "        self._iteration = 0\n",
    "\n",
    "        while True:\n",
    "            print(str(self._iteration) + ' iterations')\n",
    "            for cluster in self._clusters:\n",
    "                cluster.reset_members()\n",
    "            self._new_S = 0\n",
    "            for member in self._data:\n",
    "                max_s = self.select_cluster_for(member)\n",
    "                self._new_S += max_s\n",
    "            for cluster in self._clusters:\n",
    "                self.update_centroid_of(cluster)\n",
    "\n",
    "            self._iteration += 1\n",
    "            if self.stopping_condition(criterion, threshold):\n",
    "                break\n",
    "\n",
    "    def compute_purity(self):\n",
    "        majority_sum = 0.0\n",
    "        for cluster in self._clusters:\n",
    "            member_labels = [member._label for member in cluster._members]\n",
    "            majority_sum += max([member_labels.count(label) for label in list(set(member_labels))])\n",
    "        \n",
    "        return majority_sum * 1. / len(self._data)\n",
    "\n",
    "    def compute_NMI(self):\n",
    "        I_value, H_C, H_omega, N = 0., 0., 0., len(self._data)\n",
    "        for cluster in self._clusters:\n",
    "            wk = len(cluster._members) * 1.\n",
    "            H_omega += - wk / N * np.log10(wk / N)\n",
    "            member_labels = [member._label for member in cluster._members]\n",
    "\n",
    "            for label in list(set(member_labels)):\n",
    "                wk_cj = member_labels.count(label) * 1.\n",
    "                cj = self._label_count[label]\n",
    "                I_value += (wk_cj / N) * np.log10(N * wk_cj / (wk + cj) + 1e-12)\n",
    "        \n",
    "        for label in list(range(len(self._label_count))):\n",
    "            cj = self._label_count[label] * 1.\n",
    "            H_C += - cj / N * np.log10(cj / N)\n",
    "        return I_value * 2. / (H_omega + H_C)\n",
    "\n"
   ]
  },
  {
   "cell_type": "code",
   "execution_count": 8,
   "metadata": {},
   "outputs": [],
   "source": [
    "path = '..\\\\datasets\\\\20news-bydate\\\\'"
   ]
  },
  {
   "cell_type": "code",
   "execution_count": 9,
   "metadata": {},
   "outputs": [
    {
     "output_type": "stream",
     "name": "stdout",
     "text": [
      "0 iterations\n",
      "1 iterations\n",
      "2 iterations\n",
      "3 iterations\n",
      "4 iterations\n",
      "5 iterations\n",
      "6 iterations\n",
      "7 iterations\n",
      "8 iterations\n",
      "9 iterations\n"
     ]
    }
   ],
   "source": [
    "kmeans = Kmeans(5)\n",
    "kmeans.load_data(data_path = path)\n",
    "kmeans.run(7, 'max_iters', 10)"
   ]
  },
  {
   "cell_type": "code",
   "execution_count": 10,
   "metadata": {},
   "outputs": [
    {
     "output_type": "stream",
     "name": "stdout",
     "text": [
      "purity =  0.10018040963599703\nNMI =  3.6012508948868676\n"
     ]
    }
   ],
   "source": [
    "print('purity = ', kmeans.compute_purity())\n",
    "print('NMI = ', kmeans.compute_NMI())"
   ]
  },
  {
   "cell_type": "code",
   "execution_count": null,
   "metadata": {},
   "outputs": [],
   "source": []
  }
 ]
}